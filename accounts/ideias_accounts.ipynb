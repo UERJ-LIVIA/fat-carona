{
 "cells": [
  {
   "cell_type": "code",
   "execution_count": 1,
   "metadata": {},
   "outputs": [],
   "source": [
    "email= 'pedrosouza@gmail.com'\n"
   ]
  },
  {
   "cell_type": "code",
   "execution_count": 7,
   "metadata": {},
   "outputs": [
    {
     "name": "stdout",
     "output_type": "stream",
     "text": [
      "gmail.com\n"
     ]
    }
   ],
   "source": [
    "x=email.split('@')[1]\n",
    "print(x)"
   ]
  },
  {
   "cell_type": "code",
   "execution_count": 5,
   "metadata": {},
   "outputs": [],
   "source": [
    "\n",
    "\n",
    "def check_email(request):\n",
    "    dominio_permitido=['uerj.br']\n",
    "\n",
    "    if request.method == 'POST':\n",
    "        user=request.POST['email']\n",
    "        dominio=email.split('@')[1]\n",
    "        print(dominio)\n",
    "\n",
    "    if dominio is not  dominio_permitido:\n",
    "        print('e-mail inválido. Por favor, entre com e-mail cujo domínio está nos servidores da Uerj!')\n",
    "    else:\n",
    "        print('e-mail válido!')"
   ]
  },
  {
   "cell_type": "code",
   "execution_count": null,
   "metadata": {},
   "outputs": [],
   "source": [
    "def check_email(request,self):\n",
    "    dominio_permitido = ['uerj.br']\n",
    "    self.email=email\n",
    "\n",
    "    if request.method == 'POST':\n",
    "        user = request.POST['email']\n",
    "        dominio = user.split('@')[1]\n",
    "        print(dominio)\n",
    "\n",
    "    if dominio not in dominio_permitido:\n",
    "        print('E-mail inválido. Por favor, entre com um e-mail cujo domínio está nos servidores da UERJ!')\n",
    "    else:\n",
    "        print('E-mail válido!')\n",
    "\n",
    "def test_check_email():\n",
    "    # Simula uma requisição POST com um email válido\n",
    "    request = {'method': 'POST', 'POST': {'email': 'usuario@uerj.br'}}\n",
    "    check_email(request)\n",
    "\n",
    "    # Simula uma requisição POST com um email inválido\n",
    "    request = {'method': 'POST', 'POST': {'email': 'usuario@gmail.com'}}\n",
    "    check_email(request)\n",
    "\n",
    "test_check_email()\n"
   ]
  },
  {
   "cell_type": "code",
   "execution_count": null,
   "metadata": {},
   "outputs": [],
   "source": []
  }
 ],
 "metadata": {
  "kernelspec": {
   "display_name": "base",
   "language": "python",
   "name": "python3"
  },
  "language_info": {
   "codemirror_mode": {
    "name": "ipython",
    "version": 3
   },
   "file_extension": ".py",
   "mimetype": "text/x-python",
   "name": "python",
   "nbconvert_exporter": "python",
   "pygments_lexer": "ipython3",
   "version": "3.9.13"
  },
  "orig_nbformat": 4
 },
 "nbformat": 4,
 "nbformat_minor": 2
}
